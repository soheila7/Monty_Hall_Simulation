{
 "cells": [
  {
   "cell_type": "code",
   "execution_count": 31,
   "metadata": {},
   "outputs": [],
   "source": [
    "import random\n",
    "\n",
    "def monty_hall_game(switch_doors):\n",
    "    doors = [\"car\",\"goat\",\"goat\"]\n",
    "    random.shuffle(doors)\n",
    "\n",
    "    initial_choice = random.choice(range(len(doors)))\n",
    "\n",
    "    doors_revealed = [i for i in range(len(doors)) if i != initial_choice and doors[i] != \"car\"]\n",
    "    door_revealed = random.choice(doors_revealed)\n",
    "\n",
    "    if switch_doors:\n",
    "        final_choice = [i for i in range(len(doors)) if i != initial_choice and i != door_revealed][0]\n",
    "    else:\n",
    "        final_choice = initial_choice\n",
    "\n",
    "    return doors[final_choice] == \"car\""
   ]
  },
  {
   "cell_type": "code",
   "execution_count": 39,
   "metadata": {},
   "outputs": [
    {
     "data": {
      "text/plain": [
       "(0.326, 0.677)"
      ]
     },
     "execution_count": 39,
     "metadata": {},
     "output_type": "execute_result"
    }
   ],
   "source": [
    "def simulate_game(num_games):\n",
    "    num_wins_without_switching = sum([monty_hall_game(False) for _ in range(num_games)])\n",
    "    num_wins_with_switching = sum([monty_hall_game(True) for _ in range(num_games)])\n",
    "    return num_wins_without_switching/ num_games, num_wins_with_switching/ num_games\n",
    "\n",
    "simulate_game(1000)"
   ]
  },
  {
   "cell_type": "code",
   "execution_count": null,
   "metadata": {},
   "outputs": [],
   "source": []
  }
 ],
 "metadata": {
  "kernelspec": {
   "display_name": "jupyterlab_environment",
   "language": "python",
   "name": "python3"
  },
  "language_info": {
   "codemirror_mode": {
    "name": "ipython",
    "version": 3
   },
   "file_extension": ".py",
   "mimetype": "text/x-python",
   "name": "python",
   "nbconvert_exporter": "python",
   "pygments_lexer": "ipython3",
   "version": "3.10.15"
  }
 },
 "nbformat": 4,
 "nbformat_minor": 2
}
